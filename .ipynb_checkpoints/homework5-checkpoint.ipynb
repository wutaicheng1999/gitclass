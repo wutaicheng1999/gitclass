{
 "cells": [
  {
   "cell_type": "markdown",
   "metadata": {},
   "source": [
    "# Homework 5 (100 Points)\n",
    "\n",
    "For this homework we’ll be working with two years of the bicycle sharing systems for New York City (Citibike). The dataset contains daily bike trip counts, along with daily measurements on environmental and seasonal information that may affect the bikesharing.\n",
    "\n",
    "Here’s information on what the variables mean.\n",
    "\n",
    "- trips - daily total number of bike trips taken (all stations)\n",
    "- precipitation - daily inches of rain\n",
    "- snow_depth - daily inches of snow. Accoding to NOAA \"Determine the depth of the new and old snow remaining on the ground at observation time\".\n",
    "- snowfall - according to NOAA \"Measure and record the snowfall (snow, ice pellets ) since the previous snowfall observation (24 hours).\"\n",
    "- max_temperature - daily maximum temperature in Farenheit (highest temperature reached)\n",
    "- min_temperature - daily minimum temperature in Farenheit (lowest temperature reached)\n",
    "- average_wind_speed - measured hourly in mph and averaged for daily value\n",
    "- year \n",
    "- holiday\n",
    "    - True\n",
    "    - False\n",
    "- stations in service - docking stations working per day\n",
    "- weekday\n",
    "    - True\n",
    "    - False\n",
    "- weekday_non_holiday\n",
    "    - True\n",
    "    - False\n",
    "\n",
    "More details on snow measurements [here](https://www.weather.gov/gsp/snow)"
   ]
  },
  {
   "cell_type": "code",
   "execution_count": 3,
   "metadata": {},
   "outputs": [],
   "source": [
    "# All the libraries that we will need\n",
    "import numpy as np\n",
    "import pandas as pd\n",
    "import seaborn as sns\n",
    "from matplotlib import pyplot as plt\n",
    "import statsmodels.api as sm\n",
    "import statsmodels.formula.api as smf\n",
    "from sklearn.preprocessing import PolynomialFeatures\n",
    "import plotly.express as px\n",
    "%matplotlib inline"
   ]
  },
  {
   "cell_type": "markdown",
   "metadata": {},
   "source": [
    "### Exercise 1: Data pre-processing (16 pts)\n",
    "\n",
    "Let's start by loading and pre-processing our dataset.\n",
    "\n",
    "a) Load the `bikes` dataset into a dataframe called `bikes`, and print the first five rows [2pt]"
   ]
  },
  {
   "cell_type": "code",
   "execution_count": 6,
   "metadata": {},
   "outputs": [
    {
     "data": {
      "text/html": [
       "<div>\n",
       "<style scoped>\n",
       "    .dataframe tbody tr th:only-of-type {\n",
       "        vertical-align: middle;\n",
       "    }\n",
       "\n",
       "    .dataframe tbody tr th {\n",
       "        vertical-align: top;\n",
       "    }\n",
       "\n",
       "    .dataframe thead th {\n",
       "        text-align: right;\n",
       "    }\n",
       "</style>\n",
       "<table border=\"1\" class=\"dataframe\">\n",
       "  <thead>\n",
       "    <tr style=\"text-align: right;\">\n",
       "      <th></th>\n",
       "      <th>trips</th>\n",
       "      <th>precipitation</th>\n",
       "      <th>snow_depth</th>\n",
       "      <th>snowfall</th>\n",
       "      <th>max_temperature</th>\n",
       "      <th>min_temperature</th>\n",
       "      <th>average_wind_speed</th>\n",
       "      <th>year</th>\n",
       "      <th>season</th>\n",
       "      <th>month</th>\n",
       "      <th>holiday</th>\n",
       "      <th>stations_in_service</th>\n",
       "      <th>weekday</th>\n",
       "      <th>weekday_non_holiday</th>\n",
       "    </tr>\n",
       "  </thead>\n",
       "  <tbody>\n",
       "    <tr>\n",
       "      <th>0</th>\n",
       "      <td>20138</td>\n",
       "      <td>0.649606</td>\n",
       "      <td>0.0</td>\n",
       "      <td>0.0</td>\n",
       "      <td>75.92</td>\n",
       "      <td>66.02</td>\n",
       "      <td>2.90802</td>\n",
       "      <td>2013</td>\n",
       "      <td>summer</td>\n",
       "      <td>8</td>\n",
       "      <td>False</td>\n",
       "      <td>329</td>\n",
       "      <td>True</td>\n",
       "      <td>True</td>\n",
       "    </tr>\n",
       "    <tr>\n",
       "      <th>1</th>\n",
       "      <td>35792</td>\n",
       "      <td>0.000000</td>\n",
       "      <td>0.0</td>\n",
       "      <td>0.0</td>\n",
       "      <td>82.94</td>\n",
       "      <td>66.92</td>\n",
       "      <td>4.47387</td>\n",
       "      <td>2013</td>\n",
       "      <td>summer</td>\n",
       "      <td>8</td>\n",
       "      <td>False</td>\n",
       "      <td>329</td>\n",
       "      <td>True</td>\n",
       "      <td>True</td>\n",
       "    </tr>\n",
       "    <tr>\n",
       "      <th>2</th>\n",
       "      <td>29540</td>\n",
       "      <td>0.059055</td>\n",
       "      <td>0.0</td>\n",
       "      <td>0.0</td>\n",
       "      <td>78.08</td>\n",
       "      <td>68.00</td>\n",
       "      <td>3.35540</td>\n",
       "      <td>2013</td>\n",
       "      <td>summer</td>\n",
       "      <td>8</td>\n",
       "      <td>False</td>\n",
       "      <td>329</td>\n",
       "      <td>False</td>\n",
       "      <td>False</td>\n",
       "    </tr>\n",
       "    <tr>\n",
       "      <th>3</th>\n",
       "      <td>35253</td>\n",
       "      <td>0.000000</td>\n",
       "      <td>0.0</td>\n",
       "      <td>0.0</td>\n",
       "      <td>80.06</td>\n",
       "      <td>66.02</td>\n",
       "      <td>5.14495</td>\n",
       "      <td>2013</td>\n",
       "      <td>summer</td>\n",
       "      <td>8</td>\n",
       "      <td>False</td>\n",
       "      <td>329</td>\n",
       "      <td>False</td>\n",
       "      <td>False</td>\n",
       "    </tr>\n",
       "    <tr>\n",
       "      <th>4</th>\n",
       "      <td>36776</td>\n",
       "      <td>0.000000</td>\n",
       "      <td>0.0</td>\n",
       "      <td>0.0</td>\n",
       "      <td>78.08</td>\n",
       "      <td>62.06</td>\n",
       "      <td>3.35540</td>\n",
       "      <td>2013</td>\n",
       "      <td>summer</td>\n",
       "      <td>8</td>\n",
       "      <td>False</td>\n",
       "      <td>329</td>\n",
       "      <td>True</td>\n",
       "      <td>True</td>\n",
       "    </tr>\n",
       "  </tbody>\n",
       "</table>\n",
       "</div>"
      ],
      "text/plain": [
       "   trips  precipitation  snow_depth  snowfall  max_temperature  \\\n",
       "0  20138       0.649606         0.0       0.0            75.92   \n",
       "1  35792       0.000000         0.0       0.0            82.94   \n",
       "2  29540       0.059055         0.0       0.0            78.08   \n",
       "3  35253       0.000000         0.0       0.0            80.06   \n",
       "4  36776       0.000000         0.0       0.0            78.08   \n",
       "\n",
       "   min_temperature  average_wind_speed  year  season  month  holiday  \\\n",
       "0            66.02             2.90802  2013  summer      8    False   \n",
       "1            66.92             4.47387  2013  summer      8    False   \n",
       "2            68.00             3.35540  2013  summer      8    False   \n",
       "3            66.02             5.14495  2013  summer      8    False   \n",
       "4            62.06             3.35540  2013  summer      8    False   \n",
       "\n",
       "   stations_in_service  weekday  weekday_non_holiday  \n",
       "0                  329     True                 True  \n",
       "1                  329     True                 True  \n",
       "2                  329    False                False  \n",
       "3                  329    False                False  \n",
       "4                  329     True                 True  "
      ]
     },
     "execution_count": 6,
     "metadata": {},
     "output_type": "execute_result"
    }
   ],
   "source": [
    "bikes = pd.read_csv('citibike.csv')\n",
    "bikes.head(5)"
   ]
  },
  {
   "cell_type": "markdown",
   "metadata": {},
   "source": [
    "b) Check that there are no missing values in your dataset. If they are, take care of them appropriately [2pt]\n"
   ]
  },
  {
   "cell_type": "code",
   "execution_count": 10,
   "metadata": {},
   "outputs": [],
   "source": [
    "bikes.fillna(0, inplace=True)"
   ]
  },
  {
   "cell_type": "markdown",
   "metadata": {},
   "source": [
    "c) Separate your dataset into two dataframe. One dataframe should contain the data for weekends and the other one for weekdays [4pt]"
   ]
  },
  {
   "cell_type": "code",
   "execution_count": 23,
   "metadata": {},
   "outputs": [],
   "source": [
    "weekdays = bikes[bikes['weekday']==True]\n",
    "weekends = bikes[bikes['weekday']==False]\n",
    "weekdays.reset_index(drop=True, inplace=True)\n",
    "weekends.reset_index(drop=True, inplace=True)"
   ]
  },
  {
   "cell_type": "markdown",
   "metadata": {},
   "source": [
    "d) Let's look at the number of bicycle rental (trips) per season! Draw a boxplot that displays this information for the whole dataset. As subplots, draw the boxplots for weekdays and weekends. Is there a differece in the distribution of trips between seasons? Is there a difference between weekdays and weekends? Explain. [8pts]"
   ]
  },
  {
   "cell_type": "code",
   "execution_count": 36,
   "metadata": {},
   "outputs": [
    {
     "data": {
      "image/png": "[encoded data removed]",
      "text/plain": [
       "<Figure size 1080x504 with 3 Axes>"
      ]
     },
     "metadata": {
      "needs_background": "light"
     },
     "output_type": "display_data"
    }
   ],
   "source": [
    "fig, axes = plt.subplots(nrows=1, ncols=3, figsize=(15,7))\n",
    "bikes.boxplot(column=['trips'], by=['season'], ax=axes[0])\n",
    "weekdays.boxplot(column=['trips'], by=['season'], ax=axes[1])\n",
    "weekends.boxplot(column=['trips'], by=['season'], ax=axes[2])\n",
    "plt.show()"
   ]
  },
  {
   "cell_type": "markdown",
   "metadata": {},
   "source": [
    "--> More rides are observed in the fall and summer. The distributions between weekends and weekdays aren't that different"
   ]
  },
  {
   "cell_type": "markdown",
   "metadata": {},
   "source": [
    "## Exercise 2: Qualitative predictors (18 pts)\n",
    "\n",
    "The Season variable is an example of what’s called a categorical predictor. This problem gets to fit a model with a qualitative predictor and to interpret the findings.\n",
    "\n",
    "a) Fit a linear regression model with trips as the response variable and season as your predictor, and print the summary of this linear regression model. Use your weekdays dataset [4pt]\n"
   ]
  },
  {
   "cell_type": "code",
   "execution_count": 37,
   "metadata": {},
   "outputs": [],
   "source": [
    "import statsmodels.formula.api as smf"
   ]
  },
  {
   "cell_type": "code",
   "execution_count": 50,
   "metadata": {},
   "outputs": [],
   "source": [
    "model = smf.ols(formula='trips ~ C(season)', data = weekdays).fit()"
   ]
  },
  {
   "cell_type": "code",
   "execution_count": 51,
   "metadata": {},
   "outputs": [
    {
     "data": {
      "text/html": [
       "<table class=\"simpletable\">\n",
       "<caption>OLS Regression Results</caption>\n",
       "<tr>\n",
       "  <th>Dep. Variable:</th>          <td>trips</td>      <th>  R-squared:         </th> <td>   0.565</td> \n",
       "</tr>\n",
       "<tr>\n",
       "  <th>Model:</th>                   <td>OLS</td>       <th>  Adj. R-squared:    </th> <td>   0.563</td> \n",
       "</tr>\n",
       "<tr>\n",
       "  <th>Method:</th>             <td>Least Squares</td>  <th>  F-statistic:       </th> <td>   261.4</td> \n",
       "</tr>\n",
       "<tr>\n",
       "  <th>Date:</th>             <td>Sun, 10 Apr 2022</td> <th>  Prob (F-statistic):</th> <td>1.07e-108</td>\n",
       "</tr>\n",
       "<tr>\n",
       "  <th>Time:</th>                 <td>05:47:49</td>     <th>  Log-Likelihood:    </th> <td> -6333.7</td> \n",
       "</tr>\n",
       "<tr>\n",
       "  <th>No. Observations:</th>      <td>   608</td>      <th>  AIC:               </th> <td>1.268e+04</td>\n",
       "</tr>\n",
       "<tr>\n",
       "  <th>Df Residuals:</th>          <td>   604</td>      <th>  BIC:               </th> <td>1.269e+04</td>\n",
       "</tr>\n",
       "<tr>\n",
       "  <th>Df Model:</th>              <td>     3</td>      <th>                     </th>     <td> </td>    \n",
       "</tr>\n",
       "<tr>\n",
       "  <th>Covariance Type:</th>      <td>nonrobust</td>    <th>                     </th>     <td> </td>    \n",
       "</tr>\n",
       "</table>\n",
       "<table class=\"simpletable\">\n",
       "<tr>\n",
       "           <td></td>              <th>coef</th>     <th>std err</th>      <th>t</th>      <th>P>|t|</th>  <th>[0.025</th>    <th>0.975]</th>  \n",
       "</tr>\n",
       "<tr>\n",
       "  <th>Intercept</th>           <td> 3.353e+04</td> <td>  581.221</td> <td>   57.692</td> <td> 0.000</td> <td> 3.24e+04</td> <td> 3.47e+04</td>\n",
       "</tr>\n",
       "<tr>\n",
       "  <th>C(season)[T.spring]</th> <td>-1.096e+04</td> <td>  918.992</td> <td>  -11.923</td> <td> 0.000</td> <td>-1.28e+04</td> <td>-9152.298</td>\n",
       "</tr>\n",
       "<tr>\n",
       "  <th>C(season)[T.summer]</th> <td>  918.6325</td> <td>  876.568</td> <td>    1.048</td> <td> 0.295</td> <td> -802.859</td> <td> 2640.124</td>\n",
       "</tr>\n",
       "<tr>\n",
       "  <th>C(season)[T.winter]</th> <td>-2.231e+04</td> <td>  918.992</td> <td>  -24.278</td> <td> 0.000</td> <td>-2.41e+04</td> <td>-2.05e+04</td>\n",
       "</tr>\n",
       "</table>\n",
       "<table class=\"simpletable\">\n",
       "<tr>\n",
       "  <th>Omnibus:</th>       <td>38.008</td> <th>  Durbin-Watson:     </th> <td>   0.720</td>\n",
       "</tr>\n",
       "<tr>\n",
       "  <th>Prob(Omnibus):</th> <td> 0.000</td> <th>  Jarque-Bera (JB):  </th> <td>  52.405</td>\n",
       "</tr>\n",
       "<tr>\n",
       "  <th>Skew:</th>          <td>-0.513</td> <th>  Prob(JB):          </th> <td>4.17e-12</td>\n",
       "</tr>\n",
       "<tr>\n",
       "  <th>Kurtosis:</th>      <td> 4.008</td> <th>  Cond. No.          </th> <td>    4.33</td>\n",
       "</tr>\n",
       "</table><br/><br/>Notes:<br/>[1] Standard Errors assume that the covariance matrix of the errors is correctly specified."
      ],
      "text/plain": [
       "<class 'statsmodels.iolib.summary.Summary'>\n",
       "\"\"\"\n",
       "                            OLS Regression Results                            \n",
       "==============================================================================\n",
       "Dep. Variable:                  trips   R-squared:                       0.565\n",
       "Model:                            OLS   Adj. R-squared:                  0.563\n",
       "Method:                 Least Squares   F-statistic:                     261.4\n",
       "Date:                Sun, 10 Apr 2022   Prob (F-statistic):          1.07e-108\n",
       "Time:                        05:47:49   Log-Likelihood:                -6333.7\n",
       "No. Observations:                 608   AIC:                         1.268e+04\n",
       "Df Residuals:                     604   BIC:                         1.269e+04\n",
       "Df Model:                           3                                         \n",
       "Covariance Type:            nonrobust                                         \n",
       "=======================================================================================\n",
       "                          coef    std err          t      P>|t|      [0.025      0.975]\n",
       "---------------------------------------------------------------------------------------\n",
       "Intercept            3.353e+04    581.221     57.692      0.000    3.24e+04    3.47e+04\n",
       "C(season)[T.spring] -1.096e+04    918.992    -11.923      0.000   -1.28e+04   -9152.298\n",
       "C(season)[T.summer]   918.6325    876.568      1.048      0.295    -802.859    2640.124\n",
       "C(season)[T.winter] -2.231e+04    918.992    -24.278      0.000   -2.41e+04   -2.05e+04\n",
       "==============================================================================\n",
       "Omnibus:                       38.008   Durbin-Watson:                   0.720\n",
       "Prob(Omnibus):                  0.000   Jarque-Bera (JB):               52.405\n",
       "Skew:                          -0.513   Prob(JB):                     4.17e-12\n",
       "Kurtosis:                       4.008   Cond. No.                         4.33\n",
       "==============================================================================\n",
       "\n",
       "Notes:\n",
       "[1] Standard Errors assume that the covariance matrix of the errors is correctly specified.\n",
       "\"\"\""
      ]
     },
     "execution_count": 51,
     "metadata": {},
     "output_type": "execute_result"
    }
   ],
   "source": [
    "model.summary()"
   ]
  },
  {
   "cell_type": "markdown",
   "metadata": {},
   "source": [
    "b) How many total coefficients are there in the model? What does each coefficient correspond to? [4pt]"
   ]
  },
  {
   "cell_type": "markdown",
   "metadata": {},
   "source": [
    "--> 3. Each coefficient correspond to that season's relationship to the reference (fall). If one season's coefficient is positive if means that season's number of trips is that much more than the number of trips of the reference (fall). Vice versa."
   ]
  },
  {
   "cell_type": "markdown",
   "metadata": {},
   "source": [
    "c) Interpret the coefficients of season in the model. Make sure to use an example in your interpretation, related to the bikes [4pt]"
   ]
  },
  {
   "cell_type": "markdown",
   "metadata": {},
   "source": [
    "--> Positive coefficients correspond to a positive relationship to the reference (fall). For example, summer has a positive coefficient of 918 meaning that summer will have 918 more trips than fall. Spring and winter have negative coefficients meaning that spring and winter have less trips than fall. Note that winter coefficient is less than spring coefficient therefore winter has less trips than spring."
   ]
  },
  {
   "cell_type": "markdown",
   "metadata": {},
   "source": [
    "d) Repeat a) -> c) with your weekends dataset. What difference can you see? [6pt]"
   ]
  },
  {
   "cell_type": "code",
   "execution_count": 52,
   "metadata": {},
   "outputs": [
    {
     "data": {
      "text/html": [
       "<table class=\"simpletable\">\n",
       "<caption>OLS Regression Results</caption>\n",
       "<tr>\n",
       "  <th>Dep. Variable:</th>          <td>trips</td>      <th>  R-squared:         </th> <td>   0.568</td>\n",
       "</tr>\n",
       "<tr>\n",
       "  <th>Model:</th>                   <td>OLS</td>       <th>  Adj. R-squared:    </th> <td>   0.563</td>\n",
       "</tr>\n",
       "<tr>\n",
       "  <th>Method:</th>             <td>Least Squares</td>  <th>  F-statistic:       </th> <td>   105.3</td>\n",
       "</tr>\n",
       "<tr>\n",
       "  <th>Date:</th>             <td>Sun, 10 Apr 2022</td> <th>  Prob (F-statistic):</th> <td>1.60e-43</td>\n",
       "</tr>\n",
       "<tr>\n",
       "  <th>Time:</th>                 <td>17:20:58</td>     <th>  Log-Likelihood:    </th> <td> -2499.5</td>\n",
       "</tr>\n",
       "<tr>\n",
       "  <th>No. Observations:</th>      <td>   244</td>      <th>  AIC:               </th> <td>   5007.</td>\n",
       "</tr>\n",
       "<tr>\n",
       "  <th>Df Residuals:</th>          <td>   240</td>      <th>  BIC:               </th> <td>   5021.</td>\n",
       "</tr>\n",
       "<tr>\n",
       "  <th>Df Model:</th>              <td>     3</td>      <th>                     </th>     <td> </td>   \n",
       "</tr>\n",
       "<tr>\n",
       "  <th>Covariance Type:</th>      <td>nonrobust</td>    <th>                     </th>     <td> </td>   \n",
       "</tr>\n",
       "</table>\n",
       "<table class=\"simpletable\">\n",
       "<tr>\n",
       "           <td></td>              <th>coef</th>     <th>std err</th>      <th>t</th>      <th>P>|t|</th>  <th>[0.025</th>    <th>0.975]</th>  \n",
       "</tr>\n",
       "<tr>\n",
       "  <th>Intercept</th>           <td> 2.577e+04</td> <td>  776.459</td> <td>   33.191</td> <td> 0.000</td> <td> 2.42e+04</td> <td> 2.73e+04</td>\n",
       "</tr>\n",
       "<tr>\n",
       "  <th>C(season)[T.spring]</th> <td>-7298.8590</td> <td> 1213.971</td> <td>   -6.012</td> <td> 0.000</td> <td>-9690.258</td> <td>-4907.460</td>\n",
       "</tr>\n",
       "<tr>\n",
       "  <th>C(season)[T.summer]</th> <td> 3360.9529</td> <td> 1166.773</td> <td>    2.881</td> <td> 0.004</td> <td> 1062.529</td> <td> 5659.377</td>\n",
       "</tr>\n",
       "<tr>\n",
       "  <th>C(season)[T.winter]</th> <td>-1.793e+04</td> <td> 1242.334</td> <td>  -14.434</td> <td> 0.000</td> <td>-2.04e+04</td> <td>-1.55e+04</td>\n",
       "</tr>\n",
       "</table>\n",
       "<table class=\"simpletable\">\n",
       "<tr>\n",
       "  <th>Omnibus:</th>       <td> 4.862</td> <th>  Durbin-Watson:     </th> <td>   0.683</td>\n",
       "</tr>\n",
       "<tr>\n",
       "  <th>Prob(Omnibus):</th> <td> 0.088</td> <th>  Jarque-Bera (JB):  </th> <td>   4.739</td>\n",
       "</tr>\n",
       "<tr>\n",
       "  <th>Skew:</th>          <td>-0.341</td> <th>  Prob(JB):          </th> <td>  0.0935</td>\n",
       "</tr>\n",
       "<tr>\n",
       "  <th>Kurtosis:</th>      <td> 3.031</td> <th>  Cond. No.          </th> <td>    4.33</td>\n",
       "</tr>\n",
       "</table><br/><br/>Notes:<br/>[1] Standard Errors assume that the covariance matrix of the errors is correctly specified."
      ],
      "text/plain": [
       "<class 'statsmodels.iolib.summary.Summary'>\n",
       "\"\"\"\n",
       "                            OLS Regression Results                            \n",
       "==============================================================================\n",
       "Dep. Variable:                  trips   R-squared:                       0.568\n",
       "Model:                            OLS   Adj. R-squared:                  0.563\n",
       "Method:                 Least Squares   F-statistic:                     105.3\n",
       "Date:                Sun, 10 Apr 2022   Prob (F-statistic):           1.60e-43\n",
       "Time:                        17:20:58   Log-Likelihood:                -2499.5\n",
       "No. Observations:                 244   AIC:                             5007.\n",
       "Df Residuals:                     240   BIC:                             5021.\n",
       "Df Model:                           3                                         \n",
       "Covariance Type:            nonrobust                                         \n",
       "=======================================================================================\n",
       "                          coef    std err          t      P>|t|      [0.025      0.975]\n",
       "---------------------------------------------------------------------------------------\n",
       "Intercept            2.577e+04    776.459     33.191      0.000    2.42e+04    2.73e+04\n",
       "C(season)[T.spring] -7298.8590   1213.971     -6.012      0.000   -9690.258   -4907.460\n",
       "C(season)[T.summer]  3360.9529   1166.773      2.881      0.004    1062.529    5659.377\n",
       "C(season)[T.winter] -1.793e+04   1242.334    -14.434      0.000   -2.04e+04   -1.55e+04\n",
       "==============================================================================\n",
       "Omnibus:                        4.862   Durbin-Watson:                   0.683\n",
       "Prob(Omnibus):                  0.088   Jarque-Bera (JB):                4.739\n",
       "Skew:                          -0.341   Prob(JB):                       0.0935\n",
       "Kurtosis:                       3.031   Cond. No.                         4.33\n",
       "==============================================================================\n",
       "\n",
       "Notes:\n",
       "[1] Standard Errors assume that the covariance matrix of the errors is correctly specified.\n",
       "\"\"\""
      ]
     },
     "execution_count": 52,
     "metadata": {},
     "output_type": "execute_result"
    }
   ],
   "source": [
    "model = smf.ols(formula='trips ~ C(season)', data = weekends).fit()\n",
    "model.summary()"
   ]
  },
  {
   "cell_type": "markdown",
   "metadata": {},
   "source": [
    "--> Summer's coefficient is a lot higher than that in the weekdays dataframe. It means that using fall as a reference, the difference between summer and fall on weekends is higher than the difference between summer and fall on weekdays. In contrast, the spring and winter coefficients on weekends are lower than those on weekdays, meaning that the difference between spring/winter and fall on weekends is lower than the difference between spring/winter and fall on weekdays."
   ]
  },
  {
   "cell_type": "markdown",
   "metadata": {},
   "source": [
    "## Exercise 3: Multiple linear regression (16 pts)\n",
    "\n",
    "In this problem we’ll practice fitting and interpreting the results of a multiple linear regression. For this question use the weekdays dataset.\n",
    "\n",
    "a) Fit a regression model with trips as the response variable and the following predictors as features: snow_depth, snowfall, min_temperature, max_temperature, precipitation, month [4pt]\n"
   ]
  },
  {
   "cell_type": "code",
   "execution_count": 55,
   "metadata": {},
   "outputs": [
    {
     "data": {
      "text/html": [
       "<table class=\"simpletable\">\n",
       "<caption>OLS Regression Results</caption>\n",
       "<tr>\n",
       "  <th>Dep. Variable:</th>          <td>trips</td>      <th>  R-squared:         </th> <td>   0.768</td> \n",
       "</tr>\n",
       "<tr>\n",
       "  <th>Model:</th>                   <td>OLS</td>       <th>  Adj. R-squared:    </th> <td>   0.766</td> \n",
       "</tr>\n",
       "<tr>\n",
       "  <th>Method:</th>             <td>Least Squares</td>  <th>  F-statistic:       </th> <td>   332.2</td> \n",
       "</tr>\n",
       "<tr>\n",
       "  <th>Date:</th>             <td>Sun, 10 Apr 2022</td> <th>  Prob (F-statistic):</th> <td>3.70e-187</td>\n",
       "</tr>\n",
       "<tr>\n",
       "  <th>Time:</th>                 <td>23:58:04</td>     <th>  Log-Likelihood:    </th> <td> -6142.1</td> \n",
       "</tr>\n",
       "<tr>\n",
       "  <th>No. Observations:</th>      <td>   608</td>      <th>  AIC:               </th> <td>1.230e+04</td>\n",
       "</tr>\n",
       "<tr>\n",
       "  <th>Df Residuals:</th>          <td>   601</td>      <th>  BIC:               </th> <td>1.233e+04</td>\n",
       "</tr>\n",
       "<tr>\n",
       "  <th>Df Model:</th>              <td>     6</td>      <th>                     </th>     <td> </td>    \n",
       "</tr>\n",
       "<tr>\n",
       "  <th>Covariance Type:</th>      <td>nonrobust</td>    <th>                     </th>     <td> </td>    \n",
       "</tr>\n",
       "</table>\n",
       "<table class=\"simpletable\">\n",
       "<tr>\n",
       "         <td></td>            <th>coef</th>     <th>std err</th>      <th>t</th>      <th>P>|t|</th>  <th>[0.025</th>    <th>0.975]</th>  \n",
       "</tr>\n",
       "<tr>\n",
       "  <th>Intercept</th>       <td>-5252.4304</td> <td> 1205.888</td> <td>   -4.356</td> <td> 0.000</td> <td>-7620.697</td> <td>-2884.164</td>\n",
       "</tr>\n",
       "<tr>\n",
       "  <th>snow_depth</th>      <td> -280.4113</td> <td>   95.684</td> <td>   -2.931</td> <td> 0.004</td> <td> -468.328</td> <td>  -92.495</td>\n",
       "</tr>\n",
       "<tr>\n",
       "  <th>snowfall</th>        <td>  -71.3863</td> <td>  291.702</td> <td>   -0.245</td> <td> 0.807</td> <td> -644.265</td> <td>  501.492</td>\n",
       "</tr>\n",
       "<tr>\n",
       "  <th>min_temperature</th> <td>  -11.1556</td> <td>   54.784</td> <td>   -0.204</td> <td> 0.839</td> <td> -118.748</td> <td>   96.437</td>\n",
       "</tr>\n",
       "<tr>\n",
       "  <th>max_temperature</th> <td>  460.9413</td> <td>   50.620</td> <td>    9.106</td> <td> 0.000</td> <td>  361.527</td> <td>  560.356</td>\n",
       "</tr>\n",
       "<tr>\n",
       "  <th>precipitation</th>   <td>-8226.5494</td> <td>  658.545</td> <td>  -12.492</td> <td> 0.000</td> <td>-9519.878</td> <td>-6933.221</td>\n",
       "</tr>\n",
       "<tr>\n",
       "  <th>month</th>           <td>  661.0439</td> <td>   82.648</td> <td>    7.998</td> <td> 0.000</td> <td>  498.730</td> <td>  823.357</td>\n",
       "</tr>\n",
       "</table>\n",
       "<table class=\"simpletable\">\n",
       "<tr>\n",
       "  <th>Omnibus:</th>       <td>33.157</td> <th>  Durbin-Watson:     </th> <td>   0.758</td>\n",
       "</tr>\n",
       "<tr>\n",
       "  <th>Prob(Omnibus):</th> <td> 0.000</td> <th>  Jarque-Bera (JB):  </th> <td>  90.598</td>\n",
       "</tr>\n",
       "<tr>\n",
       "  <th>Skew:</th>          <td> 0.205</td> <th>  Prob(JB):          </th> <td>2.12e-20</td>\n",
       "</tr>\n",
       "<tr>\n",
       "  <th>Kurtosis:</th>      <td> 4.846</td> <th>  Cond. No.          </th> <td>    425.</td>\n",
       "</tr>\n",
       "</table><br/><br/>Notes:<br/>[1] Standard Errors assume that the covariance matrix of the errors is correctly specified."
      ],
      "text/plain": [
       "<class 'statsmodels.iolib.summary.Summary'>\n",
       "\"\"\"\n",
       "                            OLS Regression Results                            \n",
       "==============================================================================\n",
       "Dep. Variable:                  trips   R-squared:                       0.768\n",
       "Model:                            OLS   Adj. R-squared:                  0.766\n",
       "Method:                 Least Squares   F-statistic:                     332.2\n",
       "Date:                Sun, 10 Apr 2022   Prob (F-statistic):          3.70e-187\n",
       "Time:                        23:58:04   Log-Likelihood:                -6142.1\n",
       "No. Observations:                 608   AIC:                         1.230e+04\n",
       "Df Residuals:                     601   BIC:                         1.233e+04\n",
       "Df Model:                           6                                         \n",
       "Covariance Type:            nonrobust                                         \n",
       "===================================================================================\n",
       "                      coef    std err          t      P>|t|      [0.025      0.975]\n",
       "-----------------------------------------------------------------------------------\n",
       "Intercept       -5252.4304   1205.888     -4.356      0.000   -7620.697   -2884.164\n",
       "snow_depth       -280.4113     95.684     -2.931      0.004    -468.328     -92.495\n",
       "snowfall          -71.3863    291.702     -0.245      0.807    -644.265     501.492\n",
       "min_temperature   -11.1556     54.784     -0.204      0.839    -118.748      96.437\n",
       "max_temperature   460.9413     50.620      9.106      0.000     361.527     560.356\n",
       "precipitation   -8226.5494    658.545    -12.492      0.000   -9519.878   -6933.221\n",
       "month             661.0439     82.648      7.998      0.000     498.730     823.357\n",
       "==============================================================================\n",
       "Omnibus:                       33.157   Durbin-Watson:                   0.758\n",
       "Prob(Omnibus):                  0.000   Jarque-Bera (JB):               90.598\n",
       "Skew:                           0.205   Prob(JB):                     2.12e-20\n",
       "Kurtosis:                       4.846   Cond. No.                         425.\n",
       "==============================================================================\n",
       "\n",
       "Notes:\n",
       "[1] Standard Errors assume that the covariance matrix of the errors is correctly specified.\n",
       "\"\"\""
      ]
     },
     "execution_count": 55,
     "metadata": {},
     "output_type": "execute_result"
    }
   ],
   "source": [
    "model = smf.ols(formula='trips ~ snow_depth+snowfall+min_temperature+max_temperature+precipitation+month', data = weekdays).fit()\n",
    "model.summary()"
   ]
  },
  {
   "cell_type": "markdown",
   "metadata": {},
   "source": [
    "b) Interpret the coefficients of snow_depth, snowfall, min_temperature, max_temperature, precipitation, month in the model [4pt]"
   ]
  },
  {
   "cell_type": "markdown",
   "metadata": {},
   "source": [
    "--> The coefficients represent how many trips would be increase or decrease if 1 unit of the predictor increases or decreases. For example, number of trips will be decreased by 256 if the snow depth is increased by 1 unit."
   ]
  },
  {
   "cell_type": "markdown",
   "metadata": {},
   "source": [
    "c) Re-run the model from 3)a) but add another predictor of your choice. Justify your choice of predictor. Did this make any difference? Did the R-squared of the model improve? [4pt]"
   ]
  },
  {
   "cell_type": "code",
   "execution_count": 56,
   "metadata": {},
   "outputs": [
    {
     "data": {
      "text/html": [
       "<table class=\"simpletable\">\n",
       "<caption>OLS Regression Results</caption>\n",
       "<tr>\n",
       "  <th>Dep. Variable:</th>          <td>trips</td>      <th>  R-squared:         </th> <td>   0.799</td> \n",
       "</tr>\n",
       "<tr>\n",
       "  <th>Model:</th>                   <td>OLS</td>       <th>  Adj. R-squared:    </th> <td>   0.796</td> \n",
       "</tr>\n",
       "<tr>\n",
       "  <th>Method:</th>             <td>Least Squares</td>  <th>  F-statistic:       </th> <td>   339.7</td> \n",
       "</tr>\n",
       "<tr>\n",
       "  <th>Date:</th>             <td>Sun, 10 Apr 2022</td> <th>  Prob (F-statistic):</th> <td>5.11e-204</td>\n",
       "</tr>\n",
       "<tr>\n",
       "  <th>Time:</th>                 <td>23:58:15</td>     <th>  Log-Likelihood:    </th> <td> -6099.6</td> \n",
       "</tr>\n",
       "<tr>\n",
       "  <th>No. Observations:</th>      <td>   608</td>      <th>  AIC:               </th> <td>1.222e+04</td>\n",
       "</tr>\n",
       "<tr>\n",
       "  <th>Df Residuals:</th>          <td>   600</td>      <th>  BIC:               </th> <td>1.225e+04</td>\n",
       "</tr>\n",
       "<tr>\n",
       "  <th>Df Model:</th>              <td>     7</td>      <th>                     </th>     <td> </td>    \n",
       "</tr>\n",
       "<tr>\n",
       "  <th>Covariance Type:</th>      <td>nonrobust</td>    <th>                     </th>     <td> </td>    \n",
       "</tr>\n",
       "</table>\n",
       "<table class=\"simpletable\">\n",
       "<tr>\n",
       "         <td></td>            <th>coef</th>     <th>std err</th>      <th>t</th>      <th>P>|t|</th>  <th>[0.025</th>    <th>0.975]</th>  \n",
       "</tr>\n",
       "<tr>\n",
       "  <th>Intercept</th>       <td>-4140.1613</td> <td> 1131.658</td> <td>   -3.658</td> <td> 0.000</td> <td>-6362.653</td> <td>-1917.669</td>\n",
       "</tr>\n",
       "<tr>\n",
       "  <th>holiday[T.True]</th> <td>-1.125e+04</td> <td> 1186.655</td> <td>   -9.479</td> <td> 0.000</td> <td>-1.36e+04</td> <td>-8917.527</td>\n",
       "</tr>\n",
       "<tr>\n",
       "  <th>snow_depth</th>      <td> -287.5392</td> <td>   89.314</td> <td>   -3.219</td> <td> 0.001</td> <td> -462.944</td> <td> -112.134</td>\n",
       "</tr>\n",
       "<tr>\n",
       "  <th>snowfall</th>        <td> -150.6588</td> <td>  272.398</td> <td>   -0.553</td> <td> 0.580</td> <td> -685.629</td> <td>  384.311</td>\n",
       "</tr>\n",
       "<tr>\n",
       "  <th>min_temperature</th> <td>   -2.1095</td> <td>   51.144</td> <td>   -0.041</td> <td> 0.967</td> <td> -102.552</td> <td>   98.333</td>\n",
       "</tr>\n",
       "<tr>\n",
       "  <th>max_temperature</th> <td>  440.0151</td> <td>   47.300</td> <td>    9.303</td> <td> 0.000</td> <td>  347.122</td> <td>  532.909</td>\n",
       "</tr>\n",
       "<tr>\n",
       "  <th>precipitation</th>   <td>-8440.3148</td> <td>  615.089</td> <td>  -13.722</td> <td> 0.000</td> <td>-9648.305</td> <td>-7232.325</td>\n",
       "</tr>\n",
       "<tr>\n",
       "  <th>month</th>           <td>  696.0398</td> <td>   77.230</td> <td>    9.013</td> <td> 0.000</td> <td>  544.365</td> <td>  847.715</td>\n",
       "</tr>\n",
       "</table>\n",
       "<table class=\"simpletable\">\n",
       "<tr>\n",
       "  <th>Omnibus:</th>       <td>53.710</td> <th>  Durbin-Watson:     </th> <td>   0.830</td>\n",
       "</tr>\n",
       "<tr>\n",
       "  <th>Prob(Omnibus):</th> <td> 0.000</td> <th>  Jarque-Bera (JB):  </th> <td>  99.203</td>\n",
       "</tr>\n",
       "<tr>\n",
       "  <th>Skew:</th>          <td> 0.562</td> <th>  Prob(JB):          </th> <td>2.87e-22</td>\n",
       "</tr>\n",
       "<tr>\n",
       "  <th>Kurtosis:</th>      <td> 4.629</td> <th>  Cond. No.          </th> <td>    461.</td>\n",
       "</tr>\n",
       "</table><br/><br/>Notes:<br/>[1] Standard Errors assume that the covariance matrix of the errors is correctly specified."
      ],
      "text/plain": [
       "<class 'statsmodels.iolib.summary.Summary'>\n",
       "\"\"\"\n",
       "                            OLS Regression Results                            \n",
       "==============================================================================\n",
       "Dep. Variable:                  trips   R-squared:                       0.799\n",
       "Model:                            OLS   Adj. R-squared:                  0.796\n",
       "Method:                 Least Squares   F-statistic:                     339.7\n",
       "Date:                Sun, 10 Apr 2022   Prob (F-statistic):          5.11e-204\n",
       "Time:                        23:58:15   Log-Likelihood:                -6099.6\n",
       "No. Observations:                 608   AIC:                         1.222e+04\n",
       "Df Residuals:                     600   BIC:                         1.225e+04\n",
       "Df Model:                           7                                         \n",
       "Covariance Type:            nonrobust                                         \n",
       "===================================================================================\n",
       "                      coef    std err          t      P>|t|      [0.025      0.975]\n",
       "-----------------------------------------------------------------------------------\n",
       "Intercept       -4140.1613   1131.658     -3.658      0.000   -6362.653   -1917.669\n",
       "holiday[T.True] -1.125e+04   1186.655     -9.479      0.000   -1.36e+04   -8917.527\n",
       "snow_depth       -287.5392     89.314     -3.219      0.001    -462.944    -112.134\n",
       "snowfall         -150.6588    272.398     -0.553      0.580    -685.629     384.311\n",
       "min_temperature    -2.1095     51.144     -0.041      0.967    -102.552      98.333\n",
       "max_temperature   440.0151     47.300      9.303      0.000     347.122     532.909\n",
       "precipitation   -8440.3148    615.089    -13.722      0.000   -9648.305   -7232.325\n",
       "month             696.0398     77.230      9.013      0.000     544.365     847.715\n",
       "==============================================================================\n",
       "Omnibus:                       53.710   Durbin-Watson:                   0.830\n",
       "Prob(Omnibus):                  0.000   Jarque-Bera (JB):               99.203\n",
       "Skew:                           0.562   Prob(JB):                     2.87e-22\n",
       "Kurtosis:                       4.629   Cond. No.                         461.\n",
       "==============================================================================\n",
       "\n",
       "Notes:\n",
       "[1] Standard Errors assume that the covariance matrix of the errors is correctly specified.\n",
       "\"\"\""
      ]
     },
     "execution_count": 56,
     "metadata": {},
     "output_type": "execute_result"
    }
   ],
   "source": [
    "model = smf.ols(formula='trips ~ snow_depth+snowfall+min_temperature+max_temperature+precipitation+month+holiday', data = weekdays).fit()\n",
    "model.summary()"
   ]
  },
  {
   "cell_type": "markdown",
   "metadata": {},
   "source": [
    "--> All the coefficients change as a new predictor is introduced. Both R-square and adjusted R-square increase."
   ]
  },
  {
   "cell_type": "markdown",
   "metadata": {},
   "source": [
    "d) From c) which predictors are associated with increased ridership? Which predictors are associated with decreased ridership? [2pt]"
   ]
  },
  {
   "cell_type": "markdown",
   "metadata": {},
   "source": [
    "--> Max temperature and month are associated with increased ridership. Snow depth, snowfall, min temperature and precipitation are associated with decreased ridership."
   ]
  },
  {
   "cell_type": "markdown",
   "metadata": {},
   "source": [
    "e) Which predictors are statistically significant (95% confidence level)? [2pt]"
   ]
  },
  {
   "cell_type": "markdown",
   "metadata": {},
   "source": [
    "--> Holiday, snow depth, max temperature, precipitation and month"
   ]
  },
  {
   "cell_type": "markdown",
   "metadata": {},
   "source": [
    "## Exercise 4: Dealing with collinearity (12 pts)\n",
    "\n",
    "Highly correlated predictors can make interpreting regression coefficients problematic (they do not contribute relevant information for the model). Let’s evaluate this in our dataset. Continue using weekdays as your main dataset.\n",
    "\n",
    "a) Check the variables used in Problem 3)a) to see if any of the predictors are highly correlated with one another. [2pt]\n"
   ]
  },
  {
   "cell_type": "code",
   "execution_count": 58,
   "metadata": {},
   "outputs": [
    {
     "data": {
      "text/html": [
       "<div>\n",
       "<style scoped>\n",
       "    .dataframe tbody tr th:only-of-type {\n",
       "        vertical-align: middle;\n",
       "    }\n",
       "\n",
       "    .dataframe tbody tr th {\n",
       "        vertical-align: top;\n",
       "    }\n",
       "\n",
       "    .dataframe thead th {\n",
       "        text-align: right;\n",
       "    }\n",
       "</style>\n",
       "<table border=\"1\" class=\"dataframe\">\n",
       "  <thead>\n",
       "    <tr style=\"text-align: right;\">\n",
       "      <th></th>\n",
       "      <th>snow_depth</th>\n",
       "      <th>snowfall</th>\n",
       "      <th>max_temperature</th>\n",
       "      <th>min_temperature</th>\n",
       "      <th>precipitation</th>\n",
       "      <th>month</th>\n",
       "    </tr>\n",
       "  </thead>\n",
       "  <tbody>\n",
       "    <tr>\n",
       "      <th>snow_depth</th>\n",
       "      <td>1.000000</td>\n",
       "      <td>0.261811</td>\n",
       "      <td>-0.475653</td>\n",
       "      <td>-0.493187</td>\n",
       "      <td>0.022949</td>\n",
       "      <td>-0.439442</td>\n",
       "    </tr>\n",
       "    <tr>\n",
       "      <th>snowfall</th>\n",
       "      <td>0.261811</td>\n",
       "      <td>1.000000</td>\n",
       "      <td>-0.232368</td>\n",
       "      <td>-0.237841</td>\n",
       "      <td>0.237246</td>\n",
       "      <td>-0.215126</td>\n",
       "    </tr>\n",
       "    <tr>\n",
       "      <th>max_temperature</th>\n",
       "      <td>-0.475653</td>\n",
       "      <td>-0.232368</td>\n",
       "      <td>1.000000</td>\n",
       "      <td>0.968400</td>\n",
       "      <td>-0.011895</td>\n",
       "      <td>0.329866</td>\n",
       "    </tr>\n",
       "    <tr>\n",
       "      <th>min_temperature</th>\n",
       "      <td>-0.493187</td>\n",
       "      <td>-0.237841</td>\n",
       "      <td>0.968400</td>\n",
       "      <td>1.000000</td>\n",
       "      <td>0.013444</td>\n",
       "      <td>0.381236</td>\n",
       "    </tr>\n",
       "    <tr>\n",
       "      <th>precipitation</th>\n",
       "      <td>0.022949</td>\n",
       "      <td>0.237246</td>\n",
       "      <td>-0.011895</td>\n",
       "      <td>0.013444</td>\n",
       "      <td>1.000000</td>\n",
       "      <td>0.003059</td>\n",
       "    </tr>\n",
       "    <tr>\n",
       "      <th>month</th>\n",
       "      <td>-0.439442</td>\n",
       "      <td>-0.215126</td>\n",
       "      <td>0.329866</td>\n",
       "      <td>0.381236</td>\n",
       "      <td>0.003059</td>\n",
       "      <td>1.000000</td>\n",
       "    </tr>\n",
       "  </tbody>\n",
       "</table>\n",
       "</div>"
      ],
      "text/plain": [
       "                 snow_depth  snowfall  max_temperature  min_temperature  \\\n",
       "snow_depth         1.000000  0.261811        -0.475653        -0.493187   \n",
       "snowfall           0.261811  1.000000        -0.232368        -0.237841   \n",
       "max_temperature   -0.475653 -0.232368         1.000000         0.968400   \n",
       "min_temperature   -0.493187 -0.237841         0.968400         1.000000   \n",
       "precipitation      0.022949  0.237246        -0.011895         0.013444   \n",
       "month             -0.439442 -0.215126         0.329866         0.381236   \n",
       "\n",
       "                 precipitation     month  \n",
       "snow_depth            0.022949 -0.439442  \n",
       "snowfall              0.237246 -0.215126  \n",
       "max_temperature      -0.011895  0.329866  \n",
       "min_temperature       0.013444  0.381236  \n",
       "precipitation         1.000000  0.003059  \n",
       "month                 0.003059  1.000000  "
      ]
     },
     "execution_count": 58,
     "metadata": {},
     "output_type": "execute_result"
    }
   ],
   "source": [
    "weekdays[['snow_depth','snowfall','max_temperature','min_temperature','precipitation','month']].corr()"
   ]
  },
  {
   "cell_type": "markdown",
   "metadata": {},
   "source": [
    "--> Max temperature and min temperature is highly correlated"
   ]
  },
  {
   "cell_type": "markdown",
   "metadata": {},
   "source": [
    "b) Are any of the predictors highly correlated? Are you surprised that these predictors are highly correlated, or can you think of a reason for why it makes sense that they should be correlated? [2pt]"
   ]
  },
  {
   "cell_type": "code",
   "execution_count": 59,
   "metadata": {},
   "outputs": [
    {
     "data": {
      "text/html": [
       "<div>\n",
       "<style scoped>\n",
       "    .dataframe tbody tr th:only-of-type {\n",
       "        vertical-align: middle;\n",
       "    }\n",
       "\n",
       "    .dataframe tbody tr th {\n",
       "        vertical-align: top;\n",
       "    }\n",
       "\n",
       "    .dataframe thead th {\n",
       "        text-align: right;\n",
       "    }\n",
       "</style>\n",
       "<table border=\"1\" class=\"dataframe\">\n",
       "  <thead>\n",
       "    <tr style=\"text-align: right;\">\n",
       "      <th></th>\n",
       "      <th>trips</th>\n",
       "      <th>precipitation</th>\n",
       "      <th>snow_depth</th>\n",
       "      <th>snowfall</th>\n",
       "      <th>max_temperature</th>\n",
       "      <th>min_temperature</th>\n",
       "      <th>average_wind_speed</th>\n",
       "      <th>year</th>\n",
       "      <th>month</th>\n",
       "      <th>holiday</th>\n",
       "      <th>stations_in_service</th>\n",
       "      <th>weekday</th>\n",
       "      <th>weekday_non_holiday</th>\n",
       "    </tr>\n",
       "  </thead>\n",
       "  <tbody>\n",
       "    <tr>\n",
       "      <th>trips</th>\n",
       "      <td>1.000000</td>\n",
       "      <td>-0.265716</td>\n",
       "      <td>-0.497661</td>\n",
       "      <td>-0.289367</td>\n",
       "      <td>0.813664</td>\n",
       "      <td>0.794193</td>\n",
       "      <td>-0.547096</td>\n",
       "      <td>0.079044</td>\n",
       "      <td>0.448835</td>\n",
       "      <td>-0.215852</td>\n",
       "      <td>0.422032</td>\n",
       "      <td>NaN</td>\n",
       "      <td>0.215852</td>\n",
       "    </tr>\n",
       "    <tr>\n",
       "      <th>precipitation</th>\n",
       "      <td>-0.265716</td>\n",
       "      <td>1.000000</td>\n",
       "      <td>0.022949</td>\n",
       "      <td>0.237246</td>\n",
       "      <td>-0.011895</td>\n",
       "      <td>0.013444</td>\n",
       "      <td>0.155885</td>\n",
       "      <td>-0.011463</td>\n",
       "      <td>0.003059</td>\n",
       "      <td>-0.042389</td>\n",
       "      <td>-0.006357</td>\n",
       "      <td>NaN</td>\n",
       "      <td>0.042389</td>\n",
       "    </tr>\n",
       "    <tr>\n",
       "      <th>snow_depth</th>\n",
       "      <td>-0.497661</td>\n",
       "      <td>0.022949</td>\n",
       "      <td>1.000000</td>\n",
       "      <td>0.261811</td>\n",
       "      <td>-0.475653</td>\n",
       "      <td>-0.493187</td>\n",
       "      <td>0.244296</td>\n",
       "      <td>0.132027</td>\n",
       "      <td>-0.439442</td>\n",
       "      <td>0.008063</td>\n",
       "      <td>-0.118428</td>\n",
       "      <td>NaN</td>\n",
       "      <td>-0.008063</td>\n",
       "    </tr>\n",
       "    <tr>\n",
       "      <th>snowfall</th>\n",
       "      <td>-0.289367</td>\n",
       "      <td>0.237246</td>\n",
       "      <td>0.261811</td>\n",
       "      <td>1.000000</td>\n",
       "      <td>-0.232368</td>\n",
       "      <td>-0.237841</td>\n",
       "      <td>0.252700</td>\n",
       "      <td>0.037172</td>\n",
       "      <td>-0.215126</td>\n",
       "      <td>-0.030868</td>\n",
       "      <td>-0.056237</td>\n",
       "      <td>NaN</td>\n",
       "      <td>0.030868</td>\n",
       "    </tr>\n",
       "    <tr>\n",
       "      <th>max_temperature</th>\n",
       "      <td>0.813664</td>\n",
       "      <td>-0.011895</td>\n",
       "      <td>-0.475653</td>\n",
       "      <td>-0.232368</td>\n",
       "      <td>1.000000</td>\n",
       "      <td>0.968400</td>\n",
       "      <td>-0.559133</td>\n",
       "      <td>0.042792</td>\n",
       "      <td>0.329866</td>\n",
       "      <td>-0.083563</td>\n",
       "      <td>0.129106</td>\n",
       "      <td>NaN</td>\n",
       "      <td>0.083563</td>\n",
       "    </tr>\n",
       "    <tr>\n",
       "      <th>min_temperature</th>\n",
       "      <td>0.794193</td>\n",
       "      <td>0.013444</td>\n",
       "      <td>-0.493187</td>\n",
       "      <td>-0.237841</td>\n",
       "      <td>0.968400</td>\n",
       "      <td>1.000000</td>\n",
       "      <td>-0.551214</td>\n",
       "      <td>0.022257</td>\n",
       "      <td>0.381236</td>\n",
       "      <td>-0.072871</td>\n",
       "      <td>0.128946</td>\n",
       "      <td>NaN</td>\n",
       "      <td>0.072871</td>\n",
       "    </tr>\n",
       "    <tr>\n",
       "      <th>average_wind_speed</th>\n",
       "      <td>-0.547096</td>\n",
       "      <td>0.155885</td>\n",
       "      <td>0.244296</td>\n",
       "      <td>0.252700</td>\n",
       "      <td>-0.559133</td>\n",
       "      <td>-0.551214</td>\n",
       "      <td>1.000000</td>\n",
       "      <td>0.056325</td>\n",
       "      <td>-0.260898</td>\n",
       "      <td>0.006169</td>\n",
       "      <td>-0.104784</td>\n",
       "      <td>NaN</td>\n",
       "      <td>-0.006169</td>\n",
       "    </tr>\n",
       "    <tr>\n",
       "      <th>year</th>\n",
       "      <td>0.079044</td>\n",
       "      <td>-0.011463</td>\n",
       "      <td>0.132027</td>\n",
       "      <td>0.037172</td>\n",
       "      <td>0.042792</td>\n",
       "      <td>0.022257</td>\n",
       "      <td>0.056325</td>\n",
       "      <td>1.000000</td>\n",
       "      <td>-0.371970</td>\n",
       "      <td>-0.022353</td>\n",
       "      <td>0.390978</td>\n",
       "      <td>NaN</td>\n",
       "      <td>0.022353</td>\n",
       "    </tr>\n",
       "    <tr>\n",
       "      <th>month</th>\n",
       "      <td>0.448835</td>\n",
       "      <td>0.003059</td>\n",
       "      <td>-0.439442</td>\n",
       "      <td>-0.215126</td>\n",
       "      <td>0.329866</td>\n",
       "      <td>0.381236</td>\n",
       "      <td>-0.260898</td>\n",
       "      <td>-0.371970</td>\n",
       "      <td>1.000000</td>\n",
       "      <td>0.033636</td>\n",
       "      <td>0.318325</td>\n",
       "      <td>NaN</td>\n",
       "      <td>-0.033636</td>\n",
       "    </tr>\n",
       "    <tr>\n",
       "      <th>holiday</th>\n",
       "      <td>-0.215852</td>\n",
       "      <td>-0.042389</td>\n",
       "      <td>0.008063</td>\n",
       "      <td>-0.030868</td>\n",
       "      <td>-0.083563</td>\n",
       "      <td>-0.072871</td>\n",
       "      <td>0.006169</td>\n",
       "      <td>-0.022353</td>\n",
       "      <td>0.033636</td>\n",
       "      <td>1.000000</td>\n",
       "      <td>0.007355</td>\n",
       "      <td>NaN</td>\n",
       "      <td>-1.000000</td>\n",
       "    </tr>\n",
       "    <tr>\n",
       "      <th>stations_in_service</th>\n",
       "      <td>0.422032</td>\n",
       "      <td>-0.006357</td>\n",
       "      <td>-0.118428</td>\n",
       "      <td>-0.056237</td>\n",
       "      <td>0.129106</td>\n",
       "      <td>0.128946</td>\n",
       "      <td>-0.104784</td>\n",
       "      <td>0.390978</td>\n",
       "      <td>0.318325</td>\n",
       "      <td>0.007355</td>\n",
       "      <td>1.000000</td>\n",
       "      <td>NaN</td>\n",
       "      <td>-0.007355</td>\n",
       "    </tr>\n",
       "    <tr>\n",
       "      <th>weekday</th>\n",
       "      <td>NaN</td>\n",
       "      <td>NaN</td>\n",
       "      <td>NaN</td>\n",
       "      <td>NaN</td>\n",
       "      <td>NaN</td>\n",
       "      <td>NaN</td>\n",
       "      <td>NaN</td>\n",
       "      <td>NaN</td>\n",
       "      <td>NaN</td>\n",
       "      <td>NaN</td>\n",
       "      <td>NaN</td>\n",
       "      <td>NaN</td>\n",
       "      <td>NaN</td>\n",
       "    </tr>\n",
       "    <tr>\n",
       "      <th>weekday_non_holiday</th>\n",
       "      <td>0.215852</td>\n",
       "      <td>0.042389</td>\n",
       "      <td>-0.008063</td>\n",
       "      <td>0.030868</td>\n",
       "      <td>0.083563</td>\n",
       "      <td>0.072871</td>\n",
       "      <td>-0.006169</td>\n",
       "      <td>0.022353</td>\n",
       "      <td>-0.033636</td>\n",
       "      <td>-1.000000</td>\n",
       "      <td>-0.007355</td>\n",
       "      <td>NaN</td>\n",
       "      <td>1.000000</td>\n",
       "    </tr>\n",
       "  </tbody>\n",
       "</table>\n",
       "</div>"
      ],
      "text/plain": [
       "                        trips  precipitation  snow_depth  snowfall  \\\n",
       "trips                1.000000      -0.265716   -0.497661 -0.289367   \n",
       "precipitation       -0.265716       1.000000    0.022949  0.237246   \n",
       "snow_depth          -0.497661       0.022949    1.000000  0.261811   \n",
       "snowfall            -0.289367       0.237246    0.261811  1.000000   \n",
       "max_temperature      0.813664      -0.011895   -0.475653 -0.232368   \n",
       "min_temperature      0.794193       0.013444   -0.493187 -0.237841   \n",
       "average_wind_speed  -0.547096       0.155885    0.244296  0.252700   \n",
       "year                 0.079044      -0.011463    0.132027  0.037172   \n",
       "month                0.448835       0.003059   -0.439442 -0.215126   \n",
       "holiday             -0.215852      -0.042389    0.008063 -0.030868   \n",
       "stations_in_service  0.422032      -0.006357   -0.118428 -0.056237   \n",
       "weekday                   NaN            NaN         NaN       NaN   \n",
       "weekday_non_holiday  0.215852       0.042389   -0.008063  0.030868   \n",
       "\n",
       "                     max_temperature  min_temperature  average_wind_speed  \\\n",
       "trips                       0.813664         0.794193           -0.547096   \n",
       "precipitation              -0.011895         0.013444            0.155885   \n",
       "snow_depth                 -0.475653        -0.493187            0.244296   \n",
       "snowfall                   -0.232368        -0.237841            0.252700   \n",
       "max_temperature             1.000000         0.968400           -0.559133   \n",
       "min_temperature             0.968400         1.000000           -0.551214   \n",
       "average_wind_speed         -0.559133        -0.551214            1.000000   \n",
       "year                        0.042792         0.022257            0.056325   \n",
       "month                       0.329866         0.381236           -0.260898   \n",
       "holiday                    -0.083563        -0.072871            0.006169   \n",
       "stations_in_service         0.129106         0.128946           -0.104784   \n",
       "weekday                          NaN              NaN                 NaN   \n",
       "weekday_non_holiday         0.083563         0.072871           -0.006169   \n",
       "\n",
       "                         year     month   holiday  stations_in_service  \\\n",
       "trips                0.079044  0.448835 -0.215852             0.422032   \n",
       "precipitation       -0.011463  0.003059 -0.042389            -0.006357   \n",
       "snow_depth           0.132027 -0.439442  0.008063            -0.118428   \n",
       "snowfall             0.037172 -0.215126 -0.030868            -0.056237   \n",
       "max_temperature      0.042792  0.329866 -0.083563             0.129106   \n",
       "min_temperature      0.022257  0.381236 -0.072871             0.128946   \n",
       "average_wind_speed   0.056325 -0.260898  0.006169            -0.104784   \n",
       "year                 1.000000 -0.371970 -0.022353             0.390978   \n",
       "month               -0.371970  1.000000  0.033636             0.318325   \n",
       "holiday             -0.022353  0.033636  1.000000             0.007355   \n",
       "stations_in_service  0.390978  0.318325  0.007355             1.000000   \n",
       "weekday                   NaN       NaN       NaN                  NaN   \n",
       "weekday_non_holiday  0.022353 -0.033636 -1.000000            -0.007355   \n",
       "\n",
       "                     weekday  weekday_non_holiday  \n",
       "trips                    NaN             0.215852  \n",
       "precipitation            NaN             0.042389  \n",
       "snow_depth               NaN            -0.008063  \n",
       "snowfall                 NaN             0.030868  \n",
       "max_temperature          NaN             0.083563  \n",
       "min_temperature          NaN             0.072871  \n",
       "average_wind_speed       NaN            -0.006169  \n",
       "year                     NaN             0.022353  \n",
       "month                    NaN            -0.033636  \n",
       "holiday                  NaN            -1.000000  \n",
       "stations_in_service      NaN            -0.007355  \n",
       "weekday                  NaN                  NaN  \n",
       "weekday_non_holiday      NaN             1.000000  "
      ]
     },
     "execution_count": 59,
     "metadata": {},
     "output_type": "execute_result"
    }
   ],
   "source": [
    "weekdays.corr()"
   ]
  },
  {
   "cell_type": "markdown",
   "metadata": {},
   "source": [
    "--> Max temperature and min temperature is highly correlated. I am not surprised they are highly correlated since the max temp and the min temp of the same day should be correlated."
   ]
  },
  {
   "cell_type": "markdown",
   "metadata": {},
   "source": [
    "c) Fit your regression model, but this time omit the max or min temperature variable. Display the coefficients table for this model. [4pt]"
   ]
  },
  {
   "cell_type": "code",
   "execution_count": 60,
   "metadata": {},
   "outputs": [
    {
     "data": {
      "text/html": [
       "<table class=\"simpletable\">\n",
       "<caption>OLS Regression Results</caption>\n",
       "<tr>\n",
       "  <th>Dep. Variable:</th>          <td>trips</td>      <th>  R-squared:         </th> <td>   0.768</td> \n",
       "</tr>\n",
       "<tr>\n",
       "  <th>Model:</th>                   <td>OLS</td>       <th>  Adj. R-squared:    </th> <td>   0.766</td> \n",
       "</tr>\n",
       "<tr>\n",
       "  <th>Method:</th>             <td>Least Squares</td>  <th>  F-statistic:       </th> <td>   399.3</td> \n",
       "</tr>\n",
       "<tr>\n",
       "  <th>Date:</th>             <td>Mon, 11 Apr 2022</td> <th>  Prob (F-statistic):</th> <td>1.80e-188</td>\n",
       "</tr>\n",
       "<tr>\n",
       "  <th>Time:</th>                 <td>00:16:25</td>     <th>  Log-Likelihood:    </th> <td> -6142.1</td> \n",
       "</tr>\n",
       "<tr>\n",
       "  <th>No. Observations:</th>      <td>   608</td>      <th>  AIC:               </th> <td>1.230e+04</td>\n",
       "</tr>\n",
       "<tr>\n",
       "  <th>Df Residuals:</th>          <td>   602</td>      <th>  BIC:               </th> <td>1.232e+04</td>\n",
       "</tr>\n",
       "<tr>\n",
       "  <th>Df Model:</th>              <td>     5</td>      <th>                     </th>     <td> </td>    \n",
       "</tr>\n",
       "<tr>\n",
       "  <th>Covariance Type:</th>      <td>nonrobust</td>    <th>                     </th>     <td> </td>    \n",
       "</tr>\n",
       "</table>\n",
       "<table class=\"simpletable\">\n",
       "<tr>\n",
       "         <td></td>            <th>coef</th>     <th>std err</th>      <th>t</th>      <th>P>|t|</th>  <th>[0.025</th>    <th>0.975]</th>  \n",
       "</tr>\n",
       "<tr>\n",
       "  <th>Intercept</th>       <td>-5144.3465</td> <td> 1081.924</td> <td>   -4.755</td> <td> 0.000</td> <td>-7269.151</td> <td>-3019.542</td>\n",
       "</tr>\n",
       "<tr>\n",
       "  <th>snow_depth</th>      <td> -279.1800</td> <td>   95.417</td> <td>   -2.926</td> <td> 0.004</td> <td> -466.571</td> <td>  -91.789</td>\n",
       "</tr>\n",
       "<tr>\n",
       "  <th>snowfall</th>        <td>  -69.5130</td> <td>  291.324</td> <td>   -0.239</td> <td> 0.811</td> <td> -641.649</td> <td>  502.623</td>\n",
       "</tr>\n",
       "<tr>\n",
       "  <th>max_temperature</th> <td>  451.0544</td> <td>   14.304</td> <td>   31.533</td> <td> 0.000</td> <td>  422.962</td> <td>  479.147</td>\n",
       "</tr>\n",
       "<tr>\n",
       "  <th>precipitation</th>   <td>-8241.0373</td> <td>  654.169</td> <td>  -12.598</td> <td> 0.000</td> <td>-9525.767</td> <td>-6956.307</td>\n",
       "</tr>\n",
       "<tr>\n",
       "  <th>month</th>           <td>  657.2826</td> <td>   80.493</td> <td>    8.166</td> <td> 0.000</td> <td>  499.201</td> <td>  815.364</td>\n",
       "</tr>\n",
       "</table>\n",
       "<table class=\"simpletable\">\n",
       "<tr>\n",
       "  <th>Omnibus:</th>       <td>33.268</td> <th>  Durbin-Watson:     </th> <td>   0.756</td>\n",
       "</tr>\n",
       "<tr>\n",
       "  <th>Prob(Omnibus):</th> <td> 0.000</td> <th>  Jarque-Bera (JB):  </th> <td>  90.520</td>\n",
       "</tr>\n",
       "<tr>\n",
       "  <th>Skew:</th>          <td> 0.208</td> <th>  Prob(JB):          </th> <td>2.21e-20</td>\n",
       "</tr>\n",
       "<tr>\n",
       "  <th>Kurtosis:</th>      <td> 4.844</td> <th>  Cond. No.          </th> <td>    301.</td>\n",
       "</tr>\n",
       "</table><br/><br/>Notes:<br/>[1] Standard Errors assume that the covariance matrix of the errors is correctly specified."
      ],
      "text/plain": [
       "<class 'statsmodels.iolib.summary.Summary'>\n",
       "\"\"\"\n",
       "                            OLS Regression Results                            \n",
       "==============================================================================\n",
       "Dep. Variable:                  trips   R-squared:                       0.768\n",
       "Model:                            OLS   Adj. R-squared:                  0.766\n",
       "Method:                 Least Squares   F-statistic:                     399.3\n",
       "Date:                Mon, 11 Apr 2022   Prob (F-statistic):          1.80e-188\n",
       "Time:                        00:16:25   Log-Likelihood:                -6142.1\n",
       "No. Observations:                 608   AIC:                         1.230e+04\n",
       "Df Residuals:                     602   BIC:                         1.232e+04\n",
       "Df Model:                           5                                         \n",
       "Covariance Type:            nonrobust                                         \n",
       "===================================================================================\n",
       "                      coef    std err          t      P>|t|      [0.025      0.975]\n",
       "-----------------------------------------------------------------------------------\n",
       "Intercept       -5144.3465   1081.924     -4.755      0.000   -7269.151   -3019.542\n",
       "snow_depth       -279.1800     95.417     -2.926      0.004    -466.571     -91.789\n",
       "snowfall          -69.5130    291.324     -0.239      0.811    -641.649     502.623\n",
       "max_temperature   451.0544     14.304     31.533      0.000     422.962     479.147\n",
       "precipitation   -8241.0373    654.169    -12.598      0.000   -9525.767   -6956.307\n",
       "month             657.2826     80.493      8.166      0.000     499.201     815.364\n",
       "==============================================================================\n",
       "Omnibus:                       33.268   Durbin-Watson:                   0.756\n",
       "Prob(Omnibus):                  0.000   Jarque-Bera (JB):               90.520\n",
       "Skew:                           0.208   Prob(JB):                     2.21e-20\n",
       "Kurtosis:                       4.844   Cond. No.                         301.\n",
       "==============================================================================\n",
       "\n",
       "Notes:\n",
       "[1] Standard Errors assume that the covariance matrix of the errors is correctly specified.\n",
       "\"\"\""
      ]
     },
     "execution_count": 60,
     "metadata": {},
     "output_type": "execute_result"
    }
   ],
   "source": [
    "model = smf.ols(formula='trips ~ snow_depth+snowfall+max_temperature+precipitation+month', data = weekdays).fit()\n",
    "model.summary()"
   ]
  },
  {
   "cell_type": "markdown",
   "metadata": {},
   "source": [
    "d) What is the coefficient of temperature in this new model? Is it very different from the temperature coefficient estimated in part 3)a)? Is it statistically significant? Explain your findings. [4pt]"
   ]
  },
  {
   "cell_type": "code",
   "execution_count": 61,
   "metadata": {},
   "outputs": [
    {
     "data": {
      "text/html": [
       "<table class=\"simpletable\">\n",
       "<caption>OLS Regression Results</caption>\n",
       "<tr>\n",
       "  <th>Dep. Variable:</th>          <td>trips</td>      <th>  R-squared:         </th> <td>   0.768</td> \n",
       "</tr>\n",
       "<tr>\n",
       "  <th>Model:</th>                   <td>OLS</td>       <th>  Adj. R-squared:    </th> <td>   0.766</td> \n",
       "</tr>\n",
       "<tr>\n",
       "  <th>Method:</th>             <td>Least Squares</td>  <th>  F-statistic:       </th> <td>   399.3</td> \n",
       "</tr>\n",
       "<tr>\n",
       "  <th>Date:</th>             <td>Mon, 11 Apr 2022</td> <th>  Prob (F-statistic):</th> <td>1.80e-188</td>\n",
       "</tr>\n",
       "<tr>\n",
       "  <th>Time:</th>                 <td>00:16:43</td>     <th>  Log-Likelihood:    </th> <td> -6142.1</td> \n",
       "</tr>\n",
       "<tr>\n",
       "  <th>No. Observations:</th>      <td>   608</td>      <th>  AIC:               </th> <td>1.230e+04</td>\n",
       "</tr>\n",
       "<tr>\n",
       "  <th>Df Residuals:</th>          <td>   602</td>      <th>  BIC:               </th> <td>1.232e+04</td>\n",
       "</tr>\n",
       "<tr>\n",
       "  <th>Df Model:</th>              <td>     5</td>      <th>                     </th>     <td> </td>    \n",
       "</tr>\n",
       "<tr>\n",
       "  <th>Covariance Type:</th>      <td>nonrobust</td>    <th>                     </th>     <td> </td>    \n",
       "</tr>\n",
       "</table>\n",
       "<table class=\"simpletable\">\n",
       "<tr>\n",
       "         <td></td>            <th>coef</th>     <th>std err</th>      <th>t</th>      <th>P>|t|</th>  <th>[0.025</th>    <th>0.975]</th>  \n",
       "</tr>\n",
       "<tr>\n",
       "  <th>Intercept</th>       <td>-5144.3465</td> <td> 1081.924</td> <td>   -4.755</td> <td> 0.000</td> <td>-7269.151</td> <td>-3019.542</td>\n",
       "</tr>\n",
       "<tr>\n",
       "  <th>snow_depth</th>      <td> -279.1800</td> <td>   95.417</td> <td>   -2.926</td> <td> 0.004</td> <td> -466.571</td> <td>  -91.789</td>\n",
       "</tr>\n",
       "<tr>\n",
       "  <th>snowfall</th>        <td>  -69.5130</td> <td>  291.324</td> <td>   -0.239</td> <td> 0.811</td> <td> -641.649</td> <td>  502.623</td>\n",
       "</tr>\n",
       "<tr>\n",
       "  <th>max_temperature</th> <td>  451.0544</td> <td>   14.304</td> <td>   31.533</td> <td> 0.000</td> <td>  422.962</td> <td>  479.147</td>\n",
       "</tr>\n",
       "<tr>\n",
       "  <th>precipitation</th>   <td>-8241.0373</td> <td>  654.169</td> <td>  -12.598</td> <td> 0.000</td> <td>-9525.767</td> <td>-6956.307</td>\n",
       "</tr>\n",
       "<tr>\n",
       "  <th>month</th>           <td>  657.2826</td> <td>   80.493</td> <td>    8.166</td> <td> 0.000</td> <td>  499.201</td> <td>  815.364</td>\n",
       "</tr>\n",
       "</table>\n",
       "<table class=\"simpletable\">\n",
       "<tr>\n",
       "  <th>Omnibus:</th>       <td>33.268</td> <th>  Durbin-Watson:     </th> <td>   0.756</td>\n",
       "</tr>\n",
       "<tr>\n",
       "  <th>Prob(Omnibus):</th> <td> 0.000</td> <th>  Jarque-Bera (JB):  </th> <td>  90.520</td>\n",
       "</tr>\n",
       "<tr>\n",
       "  <th>Skew:</th>          <td> 0.208</td> <th>  Prob(JB):          </th> <td>2.21e-20</td>\n",
       "</tr>\n",
       "<tr>\n",
       "  <th>Kurtosis:</th>      <td> 4.844</td> <th>  Cond. No.          </th> <td>    301.</td>\n",
       "</tr>\n",
       "</table><br/><br/>Notes:<br/>[1] Standard Errors assume that the covariance matrix of the errors is correctly specified."
      ],
      "text/plain": [
       "<class 'statsmodels.iolib.summary.Summary'>\n",
       "\"\"\"\n",
       "                            OLS Regression Results                            \n",
       "==============================================================================\n",
       "Dep. Variable:                  trips   R-squared:                       0.768\n",
       "Model:                            OLS   Adj. R-squared:                  0.766\n",
       "Method:                 Least Squares   F-statistic:                     399.3\n",
       "Date:                Mon, 11 Apr 2022   Prob (F-statistic):          1.80e-188\n",
       "Time:                        00:16:43   Log-Likelihood:                -6142.1\n",
       "No. Observations:                 608   AIC:                         1.230e+04\n",
       "Df Residuals:                     602   BIC:                         1.232e+04\n",
       "Df Model:                           5                                         \n",
       "Covariance Type:            nonrobust                                         \n",
       "===================================================================================\n",
       "                      coef    std err          t      P>|t|      [0.025      0.975]\n",
       "-----------------------------------------------------------------------------------\n",
       "Intercept       -5144.3465   1081.924     -4.755      0.000   -7269.151   -3019.542\n",
       "snow_depth       -279.1800     95.417     -2.926      0.004    -466.571     -91.789\n",
       "snowfall          -69.5130    291.324     -0.239      0.811    -641.649     502.623\n",
       "max_temperature   451.0544     14.304     31.533      0.000     422.962     479.147\n",
       "precipitation   -8241.0373    654.169    -12.598      0.000   -9525.767   -6956.307\n",
       "month             657.2826     80.493      8.166      0.000     499.201     815.364\n",
       "==============================================================================\n",
       "Omnibus:                       33.268   Durbin-Watson:                   0.756\n",
       "Prob(Omnibus):                  0.000   Jarque-Bera (JB):               90.520\n",
       "Skew:                           0.208   Prob(JB):                     2.21e-20\n",
       "Kurtosis:                       4.844   Cond. No.                         301.\n",
       "==============================================================================\n",
       "\n",
       "Notes:\n",
       "[1] Standard Errors assume that the covariance matrix of the errors is correctly specified.\n",
       "\"\"\""
      ]
     },
     "execution_count": 61,
     "metadata": {},
     "output_type": "execute_result"
    }
   ],
   "source": [
    "model = smf.ols(formula='trips ~ snow_depth+snowfall+max_temperature+precipitation+month', data = weekdays).fit()\n",
    "model.summary()"
   ]
  },
  {
   "cell_type": "markdown",
   "metadata": {},
   "source": [
    "--> It's 451 and it's not very different. It is statistically significant. The coefficient should not be vastly different as we get rid of a highly correlated predictor."
   ]
  },
  {
   "cell_type": "markdown",
   "metadata": {},
   "source": [
    "## Exercise 5: Exploring different models (38 pts)\n",
    "\n",
    "*Continue using weekdays as your dataset.*\n",
    "\n",
    "a) Construct a scatterplot of trips ~ month. Describe what you see. Does a linear relationship appear to be a good way of modeling how bikeshare count varies with month? [4pts]"
   ]
  },
  {
   "cell_type": "code",
   "execution_count": 63,
   "metadata": {},
   "outputs": [
    {
     "data": {
      "image/png": "[encoded data removed]",
      "text/plain": [
       "<Figure size 432x288 with 1 Axes>"
      ]
     },
     "metadata": {
      "needs_background": "light"
     },
     "output_type": "display_data"
    }
   ],
   "source": [
    "plot = weekdays.plot.scatter(x='month', y='trips')"
   ]
  },
  {
   "cell_type": "markdown",
   "metadata": {},
   "source": [
    "--> It doesn't appear there's a linear relationship"
   ]
  },
  {
   "cell_type": "markdown",
   "metadata": {},
   "source": [
    "b) Try out 3 different degrees of polynomial regression fits for modeling the relationship between trips and month. Do not do more than 3 models. Display all of them in the same plot (through subplots). Choose the subplot that appears to nicely capture the trends in the data. Be sure to print the $R^2$ or adjusted-$R^2$ for each subplot to help you with your decision. Explain your choice and include comments to explain your code. [8pts]"
   ]
  },
  {
   "cell_type": "code",
   "execution_count": 74,
   "metadata": {},
   "outputs": [
    {
     "data": {
      "image/png": "[encoded data removed]",
      "text/plain": [
       "<Figure size 432x288 with 1 Axes>"
      ]
     },
     "metadata": {
      "needs_background": "light"
     },
     "output_type": "display_data"
    }
   ],
   "source": [
    "plt1 = sns.regplot(x='month', y='trips', data=weekdays, order=2)\n",
    "plt2 = sns.regplot(x='month', y='trips', data=weekdays, order=3)\n",
    "plt3 = sns.regplot(x='month', y='trips', data=weekdays, order=4)"
   ]
  },
  {
   "cell_type": "code",
   "execution_count": 77,
   "metadata": {},
   "outputs": [
    {
     "name": "stdout",
     "output_type": "stream",
     "text": [
      "0.5946086788659193\n",
      "0.6690926303981859\n",
      "0.6695387156992737\n"
     ]
    }
   ],
   "source": [
    "model1 = smf.ols(formula='trips ~ month + I(month**2)', data = weekdays).fit()\n",
    "model2 = smf.ols(formula='trips ~ month + I(month**2)+I(month**3)', data = weekdays).fit()\n",
    "model3 = smf.ols(formula='trips ~ month + I(month**2)+I(month**3) + I(month**4)', data = weekdays).fit()\n",
    "print(model1.rsquared_adj)\n",
    "print(model2.rsquared_adj)\n",
    "print(model3.rsquared_adj)"
   ]
  },
  {
   "cell_type": "markdown",
   "metadata": {},
   "source": [
    "--> The plot and the adjusted R square show that degree of 3 and degree of 4 are really close. I would choose degree of 4 because the adjusted R square is slightly higher"
   ]
  },
  {
   "cell_type": "markdown",
   "metadata": {},
   "source": [
    "c) Repeat b) to determine appropriate degree polynomials for modeling the relationship between trip and the other inputs: temperature (pick one), snow (also pick one) and precipitation (i.e., trips ~ temperature, trips ~ snow, and trips ~precipitation). Justify your choices and include comment on your code. (Note: your polynomials can have different degrees for different features) [16pts]\n"
   ]
  },
  {
   "cell_type": "code",
   "execution_count": 81,
   "metadata": {},
   "outputs": [
    {
     "data": {
      "text/plain": [
       "<AxesSubplot:xlabel='max_temperature', ylabel='trips'>"
      ]
     },
     "execution_count": 81,
     "metadata": {},
     "output_type": "execute_result"
    },
    {
     "data": {
      "image/png": "[encoded data removed]",
      "text/plain": [
       "<Figure size 432x288 with 1 Axes>"
      ]
     },
     "metadata": {
      "needs_background": "light"
     },
     "output_type": "display_data"
    }
   ],
   "source": [
    "sns.regplot(x='max_temperature', y='trips', data=weekdays, order=1)\n",
    "sns.regplot(x='max_temperature', y='trips', data=weekdays, order=2)\n",
    "sns.regplot(x='max_temperature', y='trips', data=weekdays, order=3)"
   ]
  },
  {
   "cell_type": "code",
   "execution_count": 82,
   "metadata": {},
   "outputs": [
    {
     "name": "stdout",
     "output_type": "stream",
     "text": [
      "0.6614921737781985\n",
      "0.6683217978418183\n",
      "0.6825013600987263\n"
     ]
    }
   ],
   "source": [
    "model1 = smf.ols(formula='trips ~ max_temperature', data = weekdays).fit()\n",
    "model2 = smf.ols(formula='trips ~ max_temperature + I(max_temperature**2)', data = weekdays).fit()\n",
    "model3 = smf.ols(formula='trips ~ max_temperature + I(max_temperature**2)+I(max_temperature**3)', data = weekdays).fit()\n",
    "print(model1.rsquared_adj)\n",
    "print(model2.rsquared_adj)\n",
    "print(model3.rsquared_adj)"
   ]
  },
  {
   "cell_type": "code",
   "execution_count": 84,
   "metadata": {},
   "outputs": [
    {
     "data": {
      "text/plain": [
       "<AxesSubplot:xlabel='snowfall', ylabel='trips'>"
      ]
     },
     "execution_count": 84,
     "metadata": {},
     "output_type": "execute_result"
    },
    {
     "data": {
      "image/png": "[encoded data removed]",
      "text/plain": [
       "<Figure size 432x288 with 1 Axes>"
      ]
     },
     "metadata": {
      "needs_background": "light"
     },
     "output_type": "display_data"
    }
   ],
   "source": [
    "sns.regplot(x='snowfall', y='trips', data=weekdays, order=1)\n",
    "sns.regplot(x='snowfall', y='trips', data=weekdays, order=2)\n",
    "sns.regplot(x='snowfall', y='trips', data=weekdays, order=3)"
   ]
  },
  {
   "cell_type": "code",
   "execution_count": 83,
   "metadata": {},
   "outputs": [
    {
     "name": "stdout",
     "output_type": "stream",
     "text": [
      "0.08222137172265098\n",
      "0.10587527055805968\n",
      "0.11223448307479877\n"
     ]
    }
   ],
   "source": [
    "model1 = smf.ols(formula='trips ~ snowfall', data = weekdays).fit()\n",
    "model2 = smf.ols(formula='trips ~ snowfall + I(snowfall**2)', data = weekdays).fit()\n",
    "model3 = smf.ols(formula='trips ~ snowfall + I(snowfall**2)+I(snowfall**3)', data = weekdays).fit()\n",
    "print(model1.rsquared_adj)\n",
    "print(model2.rsquared_adj)\n",
    "print(model3.rsquared_adj)"
   ]
  },
  {
   "cell_type": "code",
   "execution_count": 85,
   "metadata": {},
   "outputs": [
    {
     "data": {
      "text/plain": [
       "<AxesSubplot:xlabel='precipitation', ylabel='trips'>"
      ]
     },
     "execution_count": 85,
     "metadata": {},
     "output_type": "execute_result"
    },
    {
     "data": {
      "image/png": "[encoded data removed]",
      "text/plain": [
       "<Figure size 432x288 with 1 Axes>"
      ]
     },
     "metadata": {
      "needs_background": "light"
     },
     "output_type": "display_data"
    }
   ],
   "source": [
    "sns.regplot(x='precipitation', y='trips', data=weekdays, order=1)\n",
    "sns.regplot(x='precipitation', y='trips', data=weekdays, order=2)\n",
    "sns.regplot(x='precipitation', y='trips', data=weekdays, order=3)"
   ]
  },
  {
   "cell_type": "code",
   "execution_count": 86,
   "metadata": {},
   "outputs": [
    {
     "name": "stdout",
     "output_type": "stream",
     "text": [
      "0.06907142919128928\n",
      "0.07873945219431266\n",
      "0.09359511887808081\n"
     ]
    }
   ],
   "source": [
    "model1 = smf.ols(formula='trips ~ precipitation', data = weekdays).fit()\n",
    "model2 = smf.ols(formula='trips ~ precipitation + I(precipitation**2)', data = weekdays).fit()\n",
    "model3 = smf.ols(formula='trips ~ precipitation + I(precipitation**2)+I(precipitation**3)', data = weekdays).fit()\n",
    "print(model1.rsquared_adj)\n",
    "print(model2.rsquared_adj)\n",
    "print(model3.rsquared_adj)"
   ]
  },
  {
   "cell_type": "markdown",
   "metadata": {},
   "source": [
    "--> For all variables, degree of 3 have the highest adjusted R square. So I would pick degree of 3 for all of them. However, only max_temperature show a decent correlation between trips and the input. Other inputs like snowfall and precipitation have a very low adjusted R square so I wouldn't use polynominal regression to model their relationships with trips."
   ]
  },
  {
   "cell_type": "markdown",
   "metadata": {},
   "source": [
    "d) Repeat 5)c) with the weekends dataset. Do you notice any differences? Justify your choices and include comment on your code. [10pts]"
   ]
  },
  {
   "cell_type": "code",
   "execution_count": 87,
   "metadata": {},
   "outputs": [
    {
     "data": {
      "text/plain": [
       "<AxesSubplot:xlabel='max_temperature', ylabel='trips'>"
      ]
     },
     "execution_count": 87,
     "metadata": {},
     "output_type": "execute_result"
    },
    {
     "data": {
      "image/png": "[encoded data removed]",
      "text/plain": [
       "<Figure size 432x288 with 1 Axes>"
      ]
     },
     "metadata": {
      "needs_background": "light"
     },
     "output_type": "display_data"
    }
   ],
   "source": [
    "sns.regplot(x='max_temperature', y='trips', data=weekends, order=1)\n",
    "sns.regplot(x='max_temperature', y='trips', data=weekends, order=2)\n",
    "sns.regplot(x='max_temperature', y='trips', data=weekends, order=3)"
   ]
  },
  {
   "cell_type": "code",
   "execution_count": 88,
   "metadata": {},
   "outputs": [
    {
     "name": "stdout",
     "output_type": "stream",
     "text": [
      "0.6984171092843715\n",
      "0.7084052047463556\n",
      "0.7273472956582259\n"
     ]
    }
   ],
   "source": [
    "model1 = smf.ols(formula='trips ~ max_temperature', data = weekends).fit()\n",
    "model2 = smf.ols(formula='trips ~ max_temperature + I(max_temperature**2)', data = weekends).fit()\n",
    "model3 = smf.ols(formula='trips ~ max_temperature + I(max_temperature**2)+I(max_temperature**3)', data = weekends).fit()\n",
    "print(model1.rsquared_adj)\n",
    "print(model2.rsquared_adj)\n",
    "print(model3.rsquared_adj)"
   ]
  },
  {
   "cell_type": "code",
   "execution_count": 89,
   "metadata": {},
   "outputs": [
    {
     "name": "stderr",
     "output_type": "stream",
     "text": [
      "/opt/homebrew/lib/python3.9/site-packages/seaborn/algorithms.py:85: RankWarning: Polyfit may be poorly conditioned\n",
      "  boot_dist.append(f(*sample, **func_kwargs))\n",
      "/opt/homebrew/lib/python3.9/site-packages/seaborn/algorithms.py:85: RankWarning: Polyfit may be poorly conditioned\n",
      "  boot_dist.append(f(*sample, **func_kwargs))\n",
      "/opt/homebrew/lib/python3.9/site-packages/seaborn/algorithms.py:85: RankWarning: Polyfit may be poorly conditioned\n",
      "  boot_dist.append(f(*sample, **func_kwargs))\n",
      "/opt/homebrew/lib/python3.9/site-packages/seaborn/algorithms.py:85: RankWarning: Polyfit may be poorly conditioned\n",
      "  boot_dist.append(f(*sample, **func_kwargs))\n",
      "/opt/homebrew/lib/python3.9/site-packages/seaborn/algorithms.py:85: RankWarning: Polyfit may be poorly conditioned\n",
      "  boot_dist.append(f(*sample, **func_kwargs))\n"
     ]
    },
    {
     "data": {
      "text/plain": [
       "<AxesSubplot:xlabel='snowfall', ylabel='trips'>"
      ]
     },
     "execution_count": 89,
     "metadata": {},
     "output_type": "execute_result"
    },
    {
     "data": {
      "image/png": "[encoded data removed]",
      "text/plain": [
       "<Figure size 432x288 with 1 Axes>"
      ]
     },
     "metadata": {
      "needs_background": "light"
     },
     "output_type": "display_data"
    }
   ],
   "source": [
    "sns.regplot(x='snowfall', y='trips', data=weekends, order=1)\n",
    "sns.regplot(x='snowfall', y='trips', data=weekends, order=2)\n",
    "sns.regplot(x='snowfall', y='trips', data=weekends, order=3)"
   ]
  },
  {
   "cell_type": "code",
   "execution_count": 90,
   "metadata": {},
   "outputs": [
    {
     "name": "stdout",
     "output_type": "stream",
     "text": [
      "0.07853113704413428\n",
      "0.10566002364884808\n",
      "0.10970198247148055\n"
     ]
    }
   ],
   "source": [
    "model1 = smf.ols(formula='trips ~ snowfall', data = weekends).fit()\n",
    "model2 = smf.ols(formula='trips ~ snowfall + I(snowfall**2)', data = weekends).fit()\n",
    "model3 = smf.ols(formula='trips ~ snowfall + I(snowfall**2)+I(snowfall**3)', data = weekends).fit()\n",
    "print(model1.rsquared_adj)\n",
    "print(model2.rsquared_adj)\n",
    "print(model3.rsquared_adj)"
   ]
  },
  {
   "cell_type": "code",
   "execution_count": 91,
   "metadata": {},
   "outputs": [
    {
     "data": {
      "text/plain": [
       "<AxesSubplot:xlabel='precipitation', ylabel='trips'>"
      ]
     },
     "execution_count": 91,
     "metadata": {},
     "output_type": "execute_result"
    },
    {
     "data": {
      "image/png": "[encoded data removed]",
      "text/plain": [
       "<Figure size 432x288 with 1 Axes>"
      ]
     },
     "metadata": {
      "needs_background": "light"
     },
     "output_type": "display_data"
    }
   ],
   "source": [
    "sns.regplot(x='precipitation', y='trips', data=weekends, order=1)\n",
    "sns.regplot(x='precipitation', y='trips', data=weekends, order=2)\n",
    "sns.regplot(x='precipitation', y='trips', data=weekends, order=3)"
   ]
  },
  {
   "cell_type": "code",
   "execution_count": 93,
   "metadata": {},
   "outputs": [
    {
     "name": "stdout",
     "output_type": "stream",
     "text": [
      "0.0934441292641347\n",
      "0.09492968967119397\n",
      "0.09498568670713681\n"
     ]
    }
   ],
   "source": [
    "model1 = smf.ols(formula='trips ~ precipitation', data = weekends).fit()\n",
    "model2 = smf.ols(formula='trips ~ precipitation + I(precipitation**2)', data = weekends).fit()\n",
    "model3 = smf.ols(formula='trips ~ precipitation + I(precipitation**2)+I(precipitation**3)', data = weekends).fit()\n",
    "print(model1.rsquared_adj)\n",
    "print(model2.rsquared_adj)\n",
    "print(model3.rsquared_adj)"
   ]
  },
  {
   "cell_type": "markdown",
   "metadata": {},
   "source": [
    "--> Same for the weekenks dataset. Degree of 3 have the highest adjusted R square. However, snowfall and precipitation have very poor correlations with trips."
   ]
  }
 ],
 "metadata": {
  "kernelspec": {
   "display_name": "Python 3 (ipykernel)",
   "language": "python",
   "name": "python3"
  },
  "language_info": {
   "codemirror_mode": {
    "name": "ipython",
    "version": 3
   },
   "file_extension": ".py",
   "mimetype": "text/x-python",
   "name": "python",
   "nbconvert_exporter": "python",
   "pygments_lexer": "ipython3",
   "version": "3.9.10"
  }
 },
 "nbformat": 4,
 "nbformat_minor": 4
}
